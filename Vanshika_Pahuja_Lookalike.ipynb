{
  "nbformat": 4,
  "nbformat_minor": 0,
  "metadata": {
    "colab": {
      "provenance": []
    },
    "kernelspec": {
      "name": "python3",
      "display_name": "Python 3"
    },
    "language_info": {
      "name": "python"
    }
  },
  "cells": [
    {
      "cell_type": "markdown",
      "source": [
        "1.Data Preprocessing: We will merge customer, transaction, and product data to create a complete user profile that includes both customer and product information.\n",
        "2.Feature Engineering: We will create features based on customer demographic data and transaction history (e.g., total spend, product preferences, frequency of purchases).\n",
        "3.Similarity Calculation: We will compute similarity scores between customers using a suitable metric such as Cosine Similarity or Euclidean Distance based on their combined profile (customer and transaction data).\n",
        "4.Recommendation System: For each of the first 20 customers (from C0001 to C0020), we will calculate similarity scores with all other customers and recommend the top 3 similar customers.\n",
        "\n"
      ],
      "metadata": {
        "id": "s1AivxpbTMMy"
      }
    },
    {
      "cell_type": "code",
      "execution_count": 1,
      "metadata": {
        "colab": {
          "base_uri": "https://localhost:8080/"
        },
        "id": "dK8t9cmtRsSH",
        "outputId": "214a411f-80d2-4706-f550-e17d2c03b87c"
      },
      "outputs": [
        {
          "output_type": "stream",
          "name": "stdout",
          "text": [
            "  CustomerID        CustomerName         Region  SignupDate\n",
            "0      C0001    Lawrence Carroll  South America  2022-07-10\n",
            "1      C0002      Elizabeth Lutz           Asia  2022-02-13\n",
            "2      C0003      Michael Rivera  South America  2024-03-07\n",
            "3      C0004  Kathleen Rodriguez  South America  2022-10-09\n",
            "4      C0005         Laura Weber           Asia  2022-08-15\n",
            "  ProductID              ProductName     Category   Price\n",
            "0      P001     ActiveWear Biography        Books  169.30\n",
            "1      P002    ActiveWear Smartwatch  Electronics  346.30\n",
            "2      P003  ComfortLiving Biography        Books   44.12\n",
            "3      P004            BookWorld Rug   Home Decor   95.69\n",
            "4      P005          TechPro T-Shirt     Clothing  429.31\n",
            "  TransactionID CustomerID ProductID      TransactionDate  Quantity  \\\n",
            "0        T00001      C0199      P067  2024-08-25 12:38:23         1   \n",
            "1        T00112      C0146      P067  2024-05-27 22:23:54         1   \n",
            "2        T00166      C0127      P067  2024-04-25 07:38:55         1   \n",
            "3        T00272      C0087      P067  2024-03-26 22:55:37         2   \n",
            "4        T00363      C0070      P067  2024-03-21 15:10:10         3   \n",
            "\n",
            "   TotalValue   Price  \n",
            "0      300.68  300.68  \n",
            "1      300.68  300.68  \n",
            "2      300.68  300.68  \n",
            "3      601.36  300.68  \n",
            "4      902.04  300.68  \n"
          ]
        }
      ],
      "source": [
        "import pandas as pd\n",
        "import numpy as np\n",
        "from sklearn.metrics.pairwise import cosine_similarity\n",
        "from sklearn.preprocessing import StandardScaler\n",
        "\n",
        "# Load the datasets\n",
        "customers = pd.read_csv('/content/drive/MyDrive/ZEOTAP /Customers.csv')\n",
        "products = pd.read_csv('/content/drive/MyDrive/ZEOTAP /Products.csv')\n",
        "transactions = pd.read_csv('/content/drive/MyDrive/ZEOTAP /Transactions.csv')\n",
        "\n",
        "# Display the first few rows to check the data\n",
        "print(customers.head())\n",
        "print(products.head())\n",
        "print(transactions.head())\n"
      ]
    },
    {
      "cell_type": "markdown",
      "source": [
        "1.2 Merge Customer, Transaction, and Product Data\n",
        "We will merge the data from customers, products, and transactions based on CustomerID and ProductID. This will allow us to create a combined feature set for each customer."
      ],
      "metadata": {
        "id": "IziYQWFPTqJN"
      }
    },
    {
      "cell_type": "code",
      "source": [
        "# Merge customers with transactions\n",
        "customer_transactions = pd.merge(transactions, customers, on='CustomerID', how='left')\n",
        "\n",
        "# Merge the resulting dataframe with product data\n",
        "customer_transactions = pd.merge(customer_transactions, products, on='ProductID', how='left')\n",
        "\n",
        "# Display the merged data\n",
        "print(customer_transactions.head())\n"
      ],
      "metadata": {
        "colab": {
          "base_uri": "https://localhost:8080/"
        },
        "id": "KXtI3eN7Tq0R",
        "outputId": "f2af516c-d4a5-4890-aaf9-ba0717d2282e"
      },
      "execution_count": 2,
      "outputs": [
        {
          "output_type": "stream",
          "name": "stdout",
          "text": [
            "  TransactionID CustomerID ProductID      TransactionDate  Quantity  \\\n",
            "0        T00001      C0199      P067  2024-08-25 12:38:23         1   \n",
            "1        T00112      C0146      P067  2024-05-27 22:23:54         1   \n",
            "2        T00166      C0127      P067  2024-04-25 07:38:55         1   \n",
            "3        T00272      C0087      P067  2024-03-26 22:55:37         2   \n",
            "4        T00363      C0070      P067  2024-03-21 15:10:10         3   \n",
            "\n",
            "   TotalValue  Price_x     CustomerName         Region  SignupDate  \\\n",
            "0      300.68   300.68   Andrea Jenkins         Europe  2022-12-03   \n",
            "1      300.68   300.68  Brittany Harvey           Asia  2024-09-04   \n",
            "2      300.68   300.68  Kathryn Stevens         Europe  2024-04-04   \n",
            "3      601.36   300.68  Travis Campbell  South America  2024-04-11   \n",
            "4      902.04   300.68    Timothy Perez         Europe  2022-03-15   \n",
            "\n",
            "                       ProductName     Category  Price_y  \n",
            "0  ComfortLiving Bluetooth Speaker  Electronics   300.68  \n",
            "1  ComfortLiving Bluetooth Speaker  Electronics   300.68  \n",
            "2  ComfortLiving Bluetooth Speaker  Electronics   300.68  \n",
            "3  ComfortLiving Bluetooth Speaker  Electronics   300.68  \n",
            "4  ComfortLiving Bluetooth Speaker  Electronics   300.68  \n"
          ]
        }
      ]
    },
    {
      "cell_type": "markdown",
      "source": [
        "2.Feature Engineering\n",
        "We will create features based on the transaction history of each customer, such as:\n",
        "\n",
        "Total Spend: Sum of TotalValue for each customer.\n",
        "Product Category Preferences: Frequency of purchases in each product category.\n",
        "Average Purchase Frequency: Number of transactions per customer."
      ],
      "metadata": {
        "id": "147HlbL1TtGV"
      }
    },
    {
      "cell_type": "code",
      "source": [
        "# Create the \"Total Spend\" feature by summing up the total value of transactions for each customer\n",
        "total_spend = customer_transactions.groupby('CustomerID')['TotalValue'].sum().reset_index()\n",
        "total_spend.rename(columns={'TotalValue': 'TotalSpend'}, inplace=True)\n",
        "\n",
        "# Create the \"Product Category Preferences\" feature (i.e., the frequency of each category per customer)\n",
        "category_preference = customer_transactions.groupby(['CustomerID', 'Category']).size().unstack(fill_value=0)\n",
        "\n",
        "# Create the \"Average Purchase Frequency\" feature (i.e., the number of transactions per customer)\n",
        "avg_purchase_frequency = customer_transactions.groupby('CustomerID').size().reset_index(name='AvgPurchaseFrequency')\n",
        "\n",
        "# Merge all features into one dataframe\n",
        "customer_features = pd.merge(total_spend, avg_purchase_frequency, on='CustomerID')\n",
        "customer_features = pd.merge(customer_features, category_preference, on='CustomerID')\n",
        "\n",
        "# Display the features\n",
        "print(customer_features.head())\n"
      ],
      "metadata": {
        "colab": {
          "base_uri": "https://localhost:8080/"
        },
        "id": "6XdyJGfXTvFd",
        "outputId": "15203e85-7012-4600-d9fb-84e99ab80a36"
      },
      "execution_count": 3,
      "outputs": [
        {
          "output_type": "stream",
          "name": "stdout",
          "text": [
            "  CustomerID  TotalSpend  AvgPurchaseFrequency  Books  Clothing  Electronics  \\\n",
            "0      C0001     3354.52                     5      1         0            3   \n",
            "1      C0002     1862.74                     4      0         2            0   \n",
            "2      C0003     2725.38                     4      0         1            1   \n",
            "3      C0004     5354.88                     8      3         0            2   \n",
            "4      C0005     2034.24                     3      0         0            2   \n",
            "\n",
            "   Home Decor  \n",
            "0           1  \n",
            "1           2  \n",
            "2           2  \n",
            "3           3  \n",
            "4           1  \n"
          ]
        }
      ]
    },
    {
      "cell_type": "markdown",
      "source": [
        "3.Similarity Calculation\n",
        "Now that we have a customer profile, we will calculate similarity scores between customers. Cosine Similarity is commonly used for such tasks, as it measures the cosine of the angle between two vectors and is effective for high-dimensional data like customer profiles.\n",
        "\n",
        "3.1 Standardize the Data\n",
        "Before calculating similarity, it's important to standardize the features so that no single feature dominates the similarity score (e.g., total spend)."
      ],
      "metadata": {
        "id": "r-EYL5FRT0LT"
      }
    },
    {
      "cell_type": "code",
      "source": [
        "# Standardize the numerical features\n",
        "scaler = StandardScaler()\n",
        "scaled_features = scaler.fit_transform(customer_features.drop('CustomerID', axis=1))\n",
        "\n",
        "# Compute cosine similarity between all customers\n",
        "similarity_matrix = cosine_similarity(scaled_features)\n",
        "\n",
        "# Display the similarity matrix\n",
        "print(similarity_matrix)\n"
      ],
      "metadata": {
        "colab": {
          "base_uri": "https://localhost:8080/"
        },
        "id": "LGnyc3dDT4Z4",
        "outputId": "5b325d6c-8dc1-4106-ed93-c18889501f66"
      },
      "execution_count": 4,
      "outputs": [
        {
          "output_type": "stream",
          "name": "stdout",
          "text": [
            "[[ 1.         -0.54352611  0.00852079 ...  0.10015196  0.60159549\n",
            "  -0.49581555]\n",
            " [-0.54352611  1.          0.79054587 ...  0.48889369  0.28860935\n",
            "   0.20428846]\n",
            " [ 0.00852079  0.79054587  1.         ...  0.5047866   0.76479776\n",
            "  -0.04480824]\n",
            " ...\n",
            " [ 0.10015196  0.48889369  0.5047866  ...  1.          0.46248786\n",
            "  -0.12357102]\n",
            " [ 0.60159549  0.28860935  0.76479776 ...  0.46248786  1.\n",
            "  -0.54314818]\n",
            " [-0.49581555  0.20428846 -0.04480824 ... -0.12357102 -0.54314818\n",
            "   1.        ]]\n"
          ]
        }
      ]
    },
    {
      "cell_type": "markdown",
      "source": [
        "3.2 Generate Lookalikes\n",
        "For each customer, we will recommend the top 3 most similar customers (excluding themselves). We will use the cosine similarity scores for this task."
      ],
      "metadata": {
        "id": "njrPplNRT-Qq"
      }
    },
    {
      "cell_type": "code",
      "source": [
        "# Generate the top 3 lookalikes for each customer (excluding themselves)\n",
        "lookalike_map = {}\n",
        "\n",
        "for idx, customer_id in enumerate(customer_features['CustomerID']):\n",
        "    # Get similarity scores for each customer\n",
        "    similarity_scores = similarity_matrix[idx]\n",
        "\n",
        "    # Sort the customers by similarity score (excluding the customer itself)\n",
        "    sorted_indices = similarity_scores.argsort()[::-1]  # Sort in descending order\n",
        "    similar_customers = sorted_indices[1:4]  # Top 3 excluding the customer itself\n",
        "\n",
        "    # Collect customer ids and similarity scores\n",
        "    recommended_customers = [(customer_features.iloc[i]['CustomerID'], similarity_scores[i]) for i in similar_customers]\n",
        "\n",
        "    # Store in the lookalike map\n",
        "    lookalike_map[customer_id] = recommended_customers\n",
        "\n",
        "# Display the lookalike map for the first 20 customers\n",
        "for customer_id in list(lookalike_map.keys())[:20]:\n",
        "    print(f\"Customer {customer_id} lookalikes: {lookalike_map[customer_id]}\")\n"
      ],
      "metadata": {
        "colab": {
          "base_uri": "https://localhost:8080/"
        },
        "id": "Wl4w38tHT-2U",
        "outputId": "370a2250-0841-4550-9bad-8dc95a9032af"
      },
      "execution_count": 5,
      "outputs": [
        {
          "output_type": "stream",
          "name": "stdout",
          "text": [
            "Customer C0001 lookalikes: [('C0069', 0.9474257972151854), ('C0127', 0.8739694001028301), ('C0190', 0.8460722354249515)]\n",
            "Customer C0002 lookalikes: [('C0133', 0.9681437939265284), ('C0062', 0.8997910818956721), ('C0134', 0.8968440792176382)]\n",
            "Customer C0003 lookalikes: [('C0166', 0.9944603992451134), ('C0031', 0.9746433592752327), ('C0158', 0.9376095644412319)]\n",
            "Customer C0004 lookalikes: [('C0090', 0.9178464884605366), ('C0122', 0.9118789079040195), ('C0017', 0.9094137328867413)]\n",
            "Customer C0005 lookalikes: [('C0197', 0.9996873537675999), ('C0007', 0.9906572143006201), ('C0140', 0.8991908631524648)]\n",
            "Customer C0006 lookalikes: [('C0135', 0.9131662546767203), ('C0187', 0.7746920876470779), ('C0185', 0.7290633873719096)]\n",
            "Customer C0007 lookalikes: [('C0005', 0.9906572143006201), ('C0197', 0.9869375698842499), ('C0120', 0.8957528613441336)]\n",
            "Customer C0008 lookalikes: [('C0162', 0.9354260196136521), ('C0154', 0.8903984349746906), ('C0113', 0.8845529363450987)]\n",
            "Customer C0009 lookalikes: [('C0198', 0.920168728981332), ('C0029', 0.9196461287569269), ('C0033', 0.8764337474094815)]\n",
            "Customer C0010 lookalikes: [('C0061', 0.9181948166116802), ('C0176', 0.9141140947390333), ('C0042', 0.9120596258448855)]\n",
            "Customer C0011 lookalikes: [('C0126', 0.9539127794003), ('C0171', 0.9061044912926547), ('C0193', 0.8859277991023892)]\n",
            "Customer C0012 lookalikes: [('C0065', 0.9732107193964651), ('C0136', 0.931281573213204), ('C0104', 0.9274639598748136)]\n",
            "Customer C0013 lookalikes: [('C0067', 0.9489699202294121), ('C0105', 0.9401951306112102), ('C0102', 0.8468491088707529)]\n",
            "Customer C0014 lookalikes: [('C0151', 0.9999087464608989), ('C0097', 0.9996715010128533), ('C0060', 0.9994465585577332)]\n",
            "Customer C0015 lookalikes: [('C0123', 0.9988694847917271), ('C0014', 0.9573581146035457), ('C0151', 0.9572574682152036)]\n",
            "Customer C0016 lookalikes: [('C0183', 0.9999646152266838), ('C0107', 0.9961432432416787), ('C0105', 0.8878019025387205)]\n",
            "Customer C0017 lookalikes: [('C0075', 0.9547625456376855), ('C0090', 0.9410347298753767), ('C0194', 0.9295087951122939)]\n",
            "Customer C0018 lookalikes: [('C0023', 0.8796611833380044), ('C0168', 0.8689860208984774), ('C0068', 0.7789484717048029)]\n",
            "Customer C0019 lookalikes: [('C0191', 0.9549716093424133), ('C0174', 0.8707863705075659), ('C0070', 0.8459063597422131)]\n",
            "Customer C0020 lookalikes: [('C0130', 0.9987465475702518), ('C0095', 0.9518201439712922), ('C0198', 0.9470386937374203)]\n"
          ]
        }
      ]
    },
    {
      "cell_type": "markdown",
      "source": [
        "4. Output: Save to CSV\n",
        "Finally, we will save the lookalike_map to a CSV file (Lookalike.csv) in the specified format."
      ],
      "metadata": {
        "id": "59oQk7lIUAwi"
      }
    },
    {
      "cell_type": "code",
      "source": [
        "# Convert the lookalike map to a DataFrame\n",
        "lookalike_list = []\n",
        "for customer_id, recommendations in lookalike_map.items():\n",
        "    for rec in recommendations:\n",
        "        lookalike_list.append([customer_id, rec[0], rec[1]])\n",
        "\n",
        "lookalike_df = pd.DataFrame(lookalike_list, columns=['CustomerID', 'LookalikeCustomerID', 'SimilarityScore'])\n",
        "\n",
        "# Save to CSV\n",
        "lookalike_df.to_csv('Lookalike.csv', index=False)\n",
        "\n",
        "# Display the first few rows of the output\n",
        "print(lookalike_df.head())\n"
      ],
      "metadata": {
        "colab": {
          "base_uri": "https://localhost:8080/"
        },
        "id": "Rdq1rV_8UEDt",
        "outputId": "3c8fd24e-0e1a-47f1-eb3f-6dacd139d113"
      },
      "execution_count": 6,
      "outputs": [
        {
          "output_type": "stream",
          "name": "stdout",
          "text": [
            "  CustomerID LookalikeCustomerID  SimilarityScore\n",
            "0      C0001               C0069         0.947426\n",
            "1      C0001               C0127         0.873969\n",
            "2      C0001               C0190         0.846072\n",
            "3      C0002               C0133         0.968144\n",
            "4      C0002               C0062         0.899791\n"
          ]
        }
      ]
    }
  ]
}